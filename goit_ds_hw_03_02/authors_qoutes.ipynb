{
 "cells": [
  {
   "cell_type": "markdown",
   "metadata": {},
   "source": [
    "Для встановлення всіх залеежностей необхідно виконати команду, що запписана в наступному блоці ↓"
   ]
  },
  {
   "cell_type": "code",
   "execution_count": null,
   "metadata": {},
   "outputs": [],
   "source": [
    "%pip install -r requirements.txt"
   ]
  },
  {
   "cell_type": "code",
   "execution_count": 2,
   "metadata": {},
   "outputs": [],
   "source": [
    "import requests\n",
    "from bs4 import BeautifulSoup\n",
    "import re"
   ]
  },
  {
   "cell_type": "markdown",
   "metadata": {},
   "source": [
    "Для початку формуємо список посилань на сторінки авторів."
   ]
  },
  {
   "cell_type": "code",
   "execution_count": 3,
   "metadata": {},
   "outputs": [],
   "source": [
    "URL = 'https://quotes.toscrape.com'\n",
    "\n",
    "all_links = []\n",
    "\n",
    "response = requests.get(URL)\n",
    "soup = BeautifulSoup(response.text, 'html.parser')\n",
    "quotes = soup.select('ul[class=pager] a')\n",
    "url_list = [URL]\n",
    "sufix = re.search(r'href=\"(/page/\\d+/)\"', str(quotes))\n",
    "url = URL + sufix.group(1)\n",
    "url_list.append(url)\n",
    "\n",
    "while True:\n",
    "\n",
    "    response = requests.get(url)\n",
    "    soup = BeautifulSoup(response.text, 'html.parser')\n",
    "    items = soup.select('ul[class=pager] li[class=next] a')\n",
    "    sufix_a = re.search(r'href=\"(/page/\\d+/)\"', str(items))\n",
    "    if not sufix_a:\n",
    "        break\n",
    "    url = URL + sufix_a.group(1)\n",
    "    url_list.append(url)"
   ]
  },
  {
   "cell_type": "code",
   "execution_count": 5,
   "metadata": {},
   "outputs": [],
   "source": [
    "\n",
    "def get_url_list(link):\n",
    "    response = requests.get(link)\n",
    "    soup = BeautifulSoup(response.text, 'html.parser')\n",
    "    quotes = soup.select('div[class=quote] span a')\n",
    "    \n",
    "    for quote in quotes:\n",
    "        sufix = re.search(r'href=\"(/author/[^\"]+)\"', str(quote))\n",
    "        url = URL + sufix.group(1)\n",
    "        all_links.append(url)\n",
    "    return all_links"
   ]
  },
  {
   "cell_type": "markdown",
   "metadata": {},
   "source": [
    "Оскільки один автор може зустрічатися кілька разів на сторінках з цитатами, його посилання може повторюватися. Щоб прибрати дублікати, перетворюємо список посилань у словник, де ключем є саме посилання (рядок). Завдяки унікальності ключів у словнику дублікати автоматично видаляються. Потім перетворюємо словник назад на список. Такий підхід дозволяє зберегти порядок елементів (на відміну від перетворення через set())."
   ]
  },
  {
   "cell_type": "code",
   "execution_count": 6,
   "metadata": {},
   "outputs": [],
   "source": [
    "for link in url_list:\n",
    "    get_url_list(link)\n",
    "\n",
    "mylist = list(dict.fromkeys(all_links))"
   ]
  },
  {
   "cell_type": "code",
   "execution_count": null,
   "metadata": {},
   "outputs": [],
   "source": [
    "author = {}\n",
    "authors = []\n",
    "for link in mylist:\n",
    "\n",
    "    html_doc = requests.get(link)\n",
    "    soup = BeautifulSoup(html_doc.text, 'html.parser')\n",
    "    content = soup.select_one('div.author-details h3.author-title')\n",
    "    fullname = content.get_text(strip=True)\n",
    "    content = soup.select_one('div.author-details p span.author-born-date')\n",
    "    born_date = content.get_text(strip=True)\n",
    "    content = soup.select_one('div.author-details p span.author-born-location')\n",
    "    born_location = content.get_text(strip=True)\n",
    "    content = soup.select_one('div.author-details div.author-description')\n",
    "    description = content.get_text(strip=True)\n",
    "    author = {\n",
    "        \"fullname\": fullname,\n",
    "        \"born_date\": born_date,\n",
    "        \"born_location\": born_location,\n",
    "        \"description\": description\n",
    "    }\n",
    "\n",
    "    authors.append(author)"
   ]
  },
  {
   "cell_type": "markdown",
   "metadata": {},
   "source": [
    "Після формування списка authors, записуємо його вміст в json файл."
   ]
  },
  {
   "cell_type": "code",
   "execution_count": 8,
   "metadata": {},
   "outputs": [],
   "source": [
    "import json\n",
    "\n",
    "with open('authors.json', 'w', encoding='utf=8') as f:\n",
    "    json.dump(authors, f, ensure_ascii=False, indent=4)"
   ]
  },
  {
   "cell_type": "markdown",
   "metadata": {},
   "source": [
    "Підʼєднуємось до ДБ і призначаємо змінні для кожної колекції, в яку будемо записувати дані."
   ]
  },
  {
   "cell_type": "code",
   "execution_count": 9,
   "metadata": {},
   "outputs": [],
   "source": [
    "from pymongo import MongoClient\n",
    "from getpass import getpass\n",
    "uri = getpass(\"Enter Mongo URI: \")\n",
    "client = MongoClient(uri)\n",
    "db = client[\"goit-ds-hw-03\"]\n",
    "authors_db = db[\"authors\"]\n",
    "qoutes_db = db[\"qoutes\"]"
   ]
  },
  {
   "cell_type": "markdown",
   "metadata": {},
   "source": [
    "Читаємо записаний json файл і по елементно заносимо у відповідну колекцію."
   ]
  },
  {
   "cell_type": "code",
   "execution_count": 11,
   "metadata": {},
   "outputs": [],
   "source": [
    "with open('authors.json', 'r', encoding='utf=8') as f:\n",
    "    data = json.load(f)\n",
    "    for item in data:\n",
    "        authors_db.insert_one(item)"
   ]
  },
  {
   "cell_type": "markdown",
   "metadata": {},
   "source": [
    "Знаходимо і додаємо в словник необхідну інформацію для колекції qoutes."
   ]
  },
  {
   "cell_type": "code",
   "execution_count": 12,
   "metadata": {},
   "outputs": [],
   "source": [
    "qoutes = []\n",
    "for url in url_list:\n",
    "    response = requests.get(url)\n",
    "    soup = BeautifulSoup(response.text, 'html.parser')\n",
    "    items = soup.select('div[class=quote]')\n",
    "    pr_dickt = {}\n",
    "    for item in items:\n",
    "        tag = item.select_one('meta.keywords')\n",
    "        tags = re.search(r'content=\"([^\"]+)\"', str(item))\n",
    "        if tags:\n",
    "            tags = tags.group(1).split(',')\n",
    "        else:\n",
    "            tags = None\n",
    "        author = item.select_one('small.author').text\n",
    "        quote = item.select_one('span.text').text\n",
    "    \n",
    "        pr_dickt = {\n",
    "        \"tags\": tags,\n",
    "        \"author\": author,\n",
    "        \"quote\": quote\n",
    "        }\n",
    "        qoutes.append(pr_dickt)"
   ]
  },
  {
   "cell_type": "code",
   "execution_count": 13,
   "metadata": {},
   "outputs": [],
   "source": [
    "with open('qoutes.json', 'w', encoding='utf=8') as f:\n",
    "    json.dump(qoutes, f, ensure_ascii=False, indent=4)"
   ]
  },
  {
   "cell_type": "code",
   "execution_count": 14,
   "metadata": {},
   "outputs": [],
   "source": [
    "with open('qoutes.json', 'r', encoding='utf=8') as f:\n",
    "    data = json.load(f)\n",
    "    for item in data:\n",
    "        qoutes_db.insert_one(item)"
   ]
  }
 ],
 "metadata": {
  "kernelspec": {
   "display_name": "base",
   "language": "python",
   "name": "python3"
  },
  "language_info": {
   "codemirror_mode": {
    "name": "ipython",
    "version": 3
   },
   "file_extension": ".py",
   "mimetype": "text/x-python",
   "name": "python",
   "nbconvert_exporter": "python",
   "pygments_lexer": "ipython3",
   "version": "3.12.7"
  }
 },
 "nbformat": 4,
 "nbformat_minor": 2
}
